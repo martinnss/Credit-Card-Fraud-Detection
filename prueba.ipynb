{
 "cells": [
  {
   "cell_type": "markdown",
   "source": [
    "\r\n",
    "primero escalar los datos usando min max escaler y fitting with X (x=data[~target[])\r\n",
    "despues decir que es dificil leer todos los datos en un mismo heatmap pq son muchas columnas \r\n",
    "\r\n",
    "se procede a ocupar PCA y se hace la prueba para saber que cuantos n_components necesitamos y buscamos otras metricas para optimizar el modelo\r\n",
    "procedemos a realizar la comparacion de modelos para cada podelo realizar un gridsearch en busca de sus mejores hyperparaameters\r\n"
   ],
   "metadata": {}
  },
  {
   "cell_type": "markdown",
   "source": [
    " \r\n",
    "finalmente ocupamos un algoritmo de bagging para combinar los modelos y obtener un mejor performance\r\n",
    "\r\n"
   ],
   "metadata": {}
  },
  {
   "cell_type": "markdown",
   "source": [
    "dataset: https://www.kaggle.com/anasbot/fraud-detection-bank-98-precision\r\n",
    "\r\n",
    "scaler: https://www.geeksforgeeks.org/standardscaler-minmaxscaler-and-robustscaler-techniques-ml/\r\n",
    "\r\n",
    "xgboost: https://data-flair.training/blogs/python-machine-learning-project-detecting-parkinson-disease/\r\n",
    "https://machinelearningmastery.com/develop-first-xgboost-model-python-scikit-learn/\r\n",
    "https://www.kaggle.com/niteshyadav3103/hotel-booking-prediction-99-5-acc\r\n",
    "\r\n",
    "PCA https://www.youtube.com/watch?v=b1NGM3IbRcI\r\n",
    "https://www.kaggle.com/lonewolf95/classification-tutorial-with-pca-and-gridsearchcv\r\n",
    "https://www.kaggle.com/gaborvecsei/pipeline-pca-gridsearch\r\n",
    "\r\n"
   ],
   "metadata": {}
  }
 ],
 "metadata": {
  "orig_nbformat": 4,
  "language_info": {
   "name": "python",
   "version": "3.9.6",
   "mimetype": "text/x-python",
   "codemirror_mode": {
    "name": "ipython",
    "version": 3
   },
   "pygments_lexer": "ipython3",
   "nbconvert_exporter": "python",
   "file_extension": ".py"
  },
  "kernelspec": {
   "name": "python3",
   "display_name": "Python 3.9.6 64-bit"
  },
  "interpreter": {
   "hash": "eb10dc7af34d8b2d8e4e13c255a62d72cda2839118676834d127e6a78e1763b3"
  }
 },
 "nbformat": 4,
 "nbformat_minor": 2
}